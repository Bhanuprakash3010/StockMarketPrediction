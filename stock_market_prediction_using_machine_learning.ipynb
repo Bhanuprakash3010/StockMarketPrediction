{
  "cells": [
    {
      "cell_type": "markdown",
      "metadata": {
        "id": "view-in-github",
        "colab_type": "text"
      },
      "source": [
        "<a href=\"https://colab.research.google.com/github/Bhanuprakash3010/StockMarketPrediction/blob/main/stock_market_prediction_using_machine_learning.ipynb\" target=\"_parent\"><img src=\"https://colab.research.google.com/assets/colab-badge.svg\" alt=\"Open In Colab\"/></a>"
      ]
    },
    {
      "cell_type": "code",
      "execution_count": 2,
      "metadata": {
        "id": "WRyJBBOP1KOg",
        "colab": {
          "base_uri": "https://localhost:8080/"
        },
        "outputId": "ce00a473-fd6f-4b44-b19c-1eacbae4dfa5"
      },
      "outputs": [
        {
          "output_type": "stream",
          "name": "stderr",
          "text": [
            "/tmp/ipython-input-4271226553.py:12: FutureWarning: YF.download() has changed argument auto_adjust default to True\n",
            "  data = yf.download(ticker, start=start_date, end=end_date)\n",
            "[*********************100%***********************]  1 of 1 completed\n",
            "/usr/local/lib/python3.12/dist-packages/keras/src/layers/rnn/rnn.py:199: UserWarning: Do not pass an `input_shape`/`input_dim` argument to a layer. When using Sequential models, prefer using an `Input(shape)` object as the first layer in the model instead.\n",
            "  super().__init__(**kwargs)\n"
          ]
        },
        {
          "output_type": "stream",
          "name": "stdout",
          "text": [
            "\u001b[1m2616/2616\u001b[0m \u001b[32m━━━━━━━━━━━━━━━━━━━━\u001b[0m\u001b[37m\u001b[0m \u001b[1m67s\u001b[0m 24ms/step - loss: 0.0057\n",
            "\u001b[1m1/1\u001b[0m \u001b[32m━━━━━━━━━━━━━━━━━━━━\u001b[0m\u001b[37m\u001b[0m \u001b[1m0s\u001b[0m 414ms/step\n",
            "\u001b[1m1/1\u001b[0m \u001b[32m━━━━━━━━━━━━━━━━━━━━\u001b[0m\u001b[37m\u001b[0m \u001b[1m0s\u001b[0m 65ms/step\n",
            "Error fetching exchange rate: Currency Rates Source Not Ready\n",
            "Predicted price for AAPL on 2025-08-25 (INR): ₹20319.73\n",
            "Predicted price for AAPL on 2025-08-26 (INR): ₹20333.52\n",
            "Today's actual closing price (USD): $227.76\n",
            "USD to INR Conversion Rate: 87.00\n",
            "The stock price is predicted to go up the day after tomorrow.\n"
          ]
        }
      ],
      "source": [
        "import numpy as np\n",
        "import pandas as pd\n",
        "import yfinance as yf\n",
        "from sklearn.preprocessing import MinMaxScaler\n",
        "from keras.models import Sequential\n",
        "from keras.layers import Dense, LSTM\n",
        "from datetime import datetime, timedelta\n",
        "from forex_python.converter import CurrencyRates\n",
        "\n",
        "# Step 1: Download stock data from Yahoo Finance\n",
        "def download_stock_data(ticker, start_date, end_date):\n",
        "    data = yf.download(ticker, start=start_date, end=end_date)\n",
        "    return data\n",
        "\n",
        "# Step 2: Preprocess the data (Scaling and reshaping)\n",
        "def preprocess_data(data):\n",
        "    close_prices = data['Close'].values.reshape(-1, 1)\n",
        "    scaler = MinMaxScaler(feature_range=(0, 1))  # Scale between 0 and 1\n",
        "    scaled_data = scaler.fit_transform(close_prices)\n",
        "    return scaled_data, scaler\n",
        "\n",
        "# Step 3: Create the dataset for training the LSTM model\n",
        "def create_datasets(scaled_data, time_step=60):\n",
        "    x_train, y_train = [], []\n",
        "    for i in range(time_step, len(scaled_data)):\n",
        "        x_train.append(scaled_data[i-time_step:i, 0])\n",
        "        y_train.append(scaled_data[i, 0])\n",
        "    return np.array(x_train), np.array(y_train)\n",
        "\n",
        "# Step 4: Build the LSTM model\n",
        "def build_lstm_model(input_shape):\n",
        "    model = Sequential()\n",
        "    model.add(LSTM(units=50, return_sequences=True, input_shape=input_shape))\n",
        "    model.add(LSTM(units=50, return_sequences=False))\n",
        "    model.add(Dense(units=25))\n",
        "    model.add(Dense(units=1))\n",
        "    model.compile(optimizer='adam', loss='mean_squared_error')\n",
        "    return model\n",
        "\n",
        "# Step 5: Predict the stock price for tomorrow and day after tomorrow\n",
        "def predict_prices(model, scaler, last_60_days):\n",
        "    last_60_days_scaled = scaler.transform(last_60_days.values.reshape(-1, 1))\n",
        "\n",
        "    # Predict tomorrow's price\n",
        "    X_test = np.array([last_60_days_scaled])\n",
        "    X_test = np.reshape(X_test, (X_test.shape[0], X_test.shape[1], 1))\n",
        "    predicted_tomorrow = model.predict(X_test)\n",
        "    predicted_tomorrow_price = scaler.inverse_transform(predicted_tomorrow)[0, 0]\n",
        "\n",
        "    # Append tomorrow's prediction to last 59 days to predict day after tomorrow\n",
        "    new_input = np.append(last_60_days_scaled[1:], predicted_tomorrow)\n",
        "    new_input = np.reshape(new_input, (1, new_input.shape[0], 1))\n",
        "\n",
        "    predicted_day_after_tomorrow = model.predict(new_input)\n",
        "    predicted_day_after_tomorrow_price = scaler.inverse_transform(predicted_day_after_tomorrow)[0, 0]\n",
        "\n",
        "    return predicted_tomorrow_price, predicted_day_after_tomorrow_price\n",
        "\n",
        "# Step 6: Fetch USD to INR conversion rate\n",
        "def fetch_usd_to_inr():\n",
        "    currency_converter = CurrencyRates()\n",
        "    try:\n",
        "        return currency_converter.get_rate('USD', 'INR')  # Removed timeout\n",
        "    except Exception as e:\n",
        "        print(f\"Error fetching exchange rate: {e}\")\n",
        "        return 87.0  # Example default value in case of error\n",
        "\n",
        "# Step 7: Main function\n",
        "def main():\n",
        "    ticker = \"AAPL\"  # Example: Google Inc. (You can change the stock symbol)\n",
        "    start_date = \"2015-01-01\"\n",
        "    end_date = datetime.today().strftime('%Y-%m-%d')\n",
        "\n",
        "    # Download and preprocess stock data\n",
        "    data = download_stock_data(ticker, start_date, end_date)\n",
        "    scaled_data, scaler = preprocess_data(data)\n",
        "\n",
        "    # Create training datasets\n",
        "    time_step = 60  # Use last 60 days to predict the next day\n",
        "    x_train, y_train = create_datasets(scaled_data, time_step)\n",
        "\n",
        "    # Reshape the data for LSTM\n",
        "    x_train = np.reshape(x_train, (x_train.shape[0], x_train.shape[1], 1))\n",
        "\n",
        "    # Build and train the LSTM model\n",
        "    model = build_lstm_model((x_train.shape[1], 1))\n",
        "    model.fit(x_train, y_train, batch_size=1, epochs=1)  # Train with 1 epoch for demonstration\n",
        "\n",
        "    # Predict tomorrow and day after tomorrow's stock price\n",
        "    last_60_days = data['Close'][-60:]  # Get the last 60 days of closing prices\n",
        "    predicted_tomorrow, predicted_day_after_tomorrow = predict_prices(model, scaler, last_60_days)\n",
        "\n",
        "    # Fetch the USD to INR conversion rate\n",
        "    usd_to_inr_rate = fetch_usd_to_inr()\n",
        "\n",
        "    # Convert predictions to INR\n",
        "    predicted_tomorrow_inr = predicted_tomorrow * usd_to_inr_rate\n",
        "    predicted_day_after_tomorrow_inr = predicted_day_after_tomorrow * usd_to_inr_rate\n",
        "\n",
        "    # Print the predictions\n",
        "    current_price = data['Close'].iloc[-1]  # Get the last closing price (scalar)\n",
        "    tomorrow = datetime.today() + timedelta(days=1)\n",
        "    day_after_tomorrow = datetime.today() + timedelta(days=2)\n",
        "\n",
        "    print(f\"Predicted price for {ticker} on {tomorrow.strftime('%Y-%m-%d')} (INR): ₹{predicted_tomorrow_inr:.2f}\")\n",
        "    print(f\"Predicted price for {ticker} on {day_after_tomorrow.strftime('%Y-%m-%d')} (INR): ₹{predicted_day_after_tomorrow_inr:.2f}\")\n",
        "    print(f\"Today's actual closing price (USD): ${current_price.iloc[-1]:.2f}\")\n",
        "    print(f\"USD to INR Conversion Rate: {usd_to_inr_rate:.2f}\")\n",
        "\n",
        "    if predicted_day_after_tomorrow > predicted_tomorrow:\n",
        "        print(\"The stock price is predicted to go up the day after tomorrow.\")\n",
        "    else:\n",
        "        print(\"The stock price is predicted to go down the day after tomorrow.\")\n",
        "\n",
        "if __name__ == \"__main__\":\n",
        "    main()"
      ]
    },
    {
      "cell_type": "code",
      "execution_count": 1,
      "metadata": {
        "colab": {
          "base_uri": "https://localhost:8080/"
        },
        "id": "T3E8zs5g1Vr8",
        "outputId": "a6c63e26-3c3a-4ccb-84fa-b34c69187c4a"
      },
      "outputs": [
        {
          "output_type": "stream",
          "name": "stdout",
          "text": [
            "Collecting forex_python\n",
            "  Downloading forex_python-1.9.2-py3-none-any.whl.metadata (4.6 kB)\n",
            "Requirement already satisfied: requests>=2.0 in /usr/local/lib/python3.12/dist-packages (from forex_python) (2.32.4)\n",
            "Requirement already satisfied: simplejson>=3.0 in /usr/local/lib/python3.12/dist-packages (from forex_python) (3.20.1)\n",
            "Requirement already satisfied: charset_normalizer<4,>=2 in /usr/local/lib/python3.12/dist-packages (from requests>=2.0->forex_python) (3.4.3)\n",
            "Requirement already satisfied: idna<4,>=2.5 in /usr/local/lib/python3.12/dist-packages (from requests>=2.0->forex_python) (3.10)\n",
            "Requirement already satisfied: urllib3<3,>=1.21.1 in /usr/local/lib/python3.12/dist-packages (from requests>=2.0->forex_python) (2.5.0)\n",
            "Requirement already satisfied: certifi>=2017.4.17 in /usr/local/lib/python3.12/dist-packages (from requests>=2.0->forex_python) (2025.8.3)\n",
            "Downloading forex_python-1.9.2-py3-none-any.whl (9.5 kB)\n",
            "Installing collected packages: forex_python\n",
            "Successfully installed forex_python-1.9.2\n"
          ]
        }
      ],
      "source": [
        "pip install forex_python"
      ]
    }
  ],
  "metadata": {
    "colab": {
      "provenance": [],
      "authorship_tag": "ABX9TyNwuaCgLJFY78JVJcEe3K+H",
      "include_colab_link": true
    },
    "kernelspec": {
      "display_name": "Python 3",
      "name": "python3"
    },
    "language_info": {
      "name": "python"
    }
  },
  "nbformat": 4,
  "nbformat_minor": 0
}